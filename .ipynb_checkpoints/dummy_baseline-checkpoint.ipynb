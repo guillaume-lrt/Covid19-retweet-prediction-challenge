{
 "cells": [
  {
   "cell_type": "markdown",
   "metadata": {
    "colab_type": "text",
    "id": "view-in-github"
   },
   "source": [
    "<a href=\"https://colab.research.google.com/github/guillaume-lrt/Covid19-retweet-prediction-challenge/blob/main/dummy_baseline.ipynb\" target=\"_parent\"><img src=\"https://colab.research.google.com/assets/colab-badge.svg\" alt=\"Open In Colab\"/></a>"
   ]
  },
  {
   "cell_type": "code",
   "execution_count": 5,
   "metadata": {
    "id": "6NTj5pyuPBzd"
   },
   "outputs": [],
   "source": [
    "import csv\n",
    "import pandas as pd\n",
    "from sklearn.dummy import DummyRegressor"
   ]
  },
  {
   "cell_type": "code",
   "execution_count": 3,
   "metadata": {
    "colab": {
     "base_uri": "https://localhost:8080/"
    },
    "id": "wtTMojJTPP46",
    "outputId": "50c143ee-a4dd-476c-aa07-4288fad047bd"
   },
   "outputs": [
    {
     "name": "stdout",
     "output_type": "stream",
     "text": [
      "            id  ...                                               text\n",
      "0            0  ...                                      Smh I give up\n",
      "1            1  ...  Most of us are Human Beings, but I think you m...\n",
      "2            2  ...  Old dirty tricks Trump, at it again...like we ...\n",
      "3            3  ...  Seriously..... I worked 86 hours my last check...\n",
      "4            4  ...  May ALMIGHTY ALLAH have mercy on us all. Only ...\n",
      "...        ...  ...                                                ...\n",
      "665772  665772  ...                     18 months dawg? Come on man...\n",
      "665773  665773  ...  Thank you to all of the nurses in our @Stanfor...\n",
      "665774  665774  ...  'Post it' pearls for Palliative, End of Life a...\n",
      "665775  665775  ...  His facial expressions are kind of looking for...\n",
      "665776  665776  ...                              We really can't wait.\n",
      "\n",
      "[665777 rows x 11 columns]\n",
      "            id  ...                                               text\n",
      "0       665776  ...  Coronavirus, no spring break, Chris Brown fan ...\n",
      "1       665777  ...                                This fits the data.\n",
      "2       665778  ...  Y’all talk about the Coronavirus like y’all be...\n",
      "3       665779  ...  As this coronavirus and covid-19 go on, the fo...\n",
      "4       665780  ...  Big Brother is not very good at watching you. ...\n",
      "...        ...  ...                                                ...\n",
      "285329  951105  ...  #IndianArmy fights COVID-19\\n\\n#HarKaamDeshKeN...\n",
      "285330  951106  ...  (04/22/2020) “CUT-THE-RONA” \\n\\nWe would like ...\n",
      "285331  951107  ...                                It's just starting.\n",
      "285332  951108  ...  It is in no way a surprise that one of the fou...\n",
      "285333  951109  ...            Very impressive https://t.co/xVAdPYh8IT\n",
      "\n",
      "[285334 rows x 10 columns]\n"
     ]
    }
   ],
   "source": [
    "# Load the training data\n",
    "train_data = pd.read_csv(\"https://media.githubusercontent.com/media/guillaume-lrt/Covid19-retweet-prediction-challenge/main/data/train.csv\")\n",
    "# Load the evaluation data\n",
    "eval_data = pd.read_csv(\"https://media.githubusercontent.com/media/guillaume-lrt/Covid19-retweet-prediction-challenge/main/data/evaluation.csv\")\n",
    "print(train_data)\n",
    "print(eval_data)"
   ]
  },
  {
   "cell_type": "code",
   "execution_count": 6,
   "metadata": {
    "id": "qvaxx5viPZ7N"
   },
   "outputs": [],
   "source": [
    "# Initialize the Dummy Regressor to use the Mean value of our data\n",
    "dummy_regr = DummyRegressor(strategy=\"mean\")\n",
    "# Fit the regressor with our data\n",
    "dummy_regr.fit(train_data, train_data['retweet_count'])\n",
    "# Pass the evaluation data through the predict function which just gets the same value for every tweet\n",
    "dummy_pred = dummy_regr.predict(eval_data)\n",
    "\n",
    "# Dump the results into a file that follows the required Kaggle template\n",
    "with open(\"mean_predictions.txt\", 'w') as f:\n",
    "    writer = csv.writer(f)\n",
    "    writer.writerow([\"TweetID\", \"NoRetweets\"])\n",
    "    for index, prediction in enumerate(dummy_pred):\n",
    "        writer.writerow([str(eval_data['id'].iloc[index]) , str(int(prediction))])\n",
    "\n",
    "# Initialize the Dummy Regressor that will constantly predicts 0 retweets\n",
    "dummy_regr = DummyRegressor(strategy=\"constant\", constant=0)\n",
    "# Fit the regressor with our data, which does nothing in action\n",
    "dummy_regr.fit(train_data, train_data['retweet_count'])\n",
    "# Pass the evaluation data through the predict function which just gets value 0 for every tweet\n",
    "dummy_pred = dummy_regr.predict(eval_data)"
   ]
  },
  {
   "cell_type": "code",
   "execution_count": 7,
   "metadata": {
    "id": "hySgf2mjPlvT"
   },
   "outputs": [],
   "source": [
    "# Dump the results into a file that follows the required Kaggle template\n",
    "with open(\"constant_predictions.txt\", 'w') as f:\n",
    "    writer = csv.writer(f)\n",
    "    writer.writerow([\"TweetID\", \"NoRetweets\"])\n",
    "    for index, prediction in enumerate(dummy_pred):\n",
    "        writer.writerow([str(eval_data['id'].iloc[index]) , str(int(prediction))])"
   ]
  },
  {
   "cell_type": "code",
   "execution_count": null,
   "metadata": {
    "id": "hb1zF65bPv0G"
   },
   "outputs": [],
   "source": []
  }
 ],
 "metadata": {
  "colab": {
   "authorship_tag": "ABX9TyMxXgI2C6RFiD8xPh3q4X/w",
   "collapsed_sections": [],
   "include_colab_link": true,
   "name": "dummy_baseline.ipynb",
   "provenance": []
  },
  "kernelspec": {
   "display_name": "Python 3",
   "language": "python",
   "name": "python3"
  },
  "language_info": {
   "codemirror_mode": {
    "name": "ipython",
    "version": 3
   },
   "file_extension": ".py",
   "mimetype": "text/x-python",
   "name": "python",
   "nbconvert_exporter": "python",
   "pygments_lexer": "ipython3",
   "version": "3.7.7"
  }
 },
 "nbformat": 4,
 "nbformat_minor": 1
}
