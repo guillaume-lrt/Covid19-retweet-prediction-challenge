{
 "cells": [
  {
   "cell_type": "code",
   "execution_count": 45,
   "metadata": {},
   "outputs": [],
   "source": [
    "import csv\n",
    "import numpy as np\n",
    "import matplotlib.pyplot as plt\n",
    "import pandas as pd\n",
    "from sklearn.ensemble import GradientBoostingRegressor\n",
    "from sklearn.feature_extraction.text import TfidfVectorizer\n",
    "from sklearn.feature_extraction.text import CountVectorizer\n",
    "from sklearn.metrics import mean_absolute_error\n",
    "from sklearn.linear_model import LogisticRegression\n",
    "from verstack.stratified_continuous_split import scsplit # pip install verstack\n",
    "\n",
    "import sys\n",
    "import pickle\n",
    "from pickle import dump\n",
    "from sklearn.pipeline import Pipeline\n",
    "from sklearn.impute import SimpleImputer\n",
    "from sklearn.preprocessing import StandardScaler\n",
    "from sklearn.compose import ColumnTransformer\n",
    "from sklearn.preprocessing import OneHotEncoder\n",
    "from collections import Counter\n",
    "import seaborn as sns\n",
    "import joblib\n",
    "from sklearn.utils import shuffle\n",
    "\n",
    "import time"
   ]
  },
  {
   "cell_type": "code",
   "execution_count": 60,
   "metadata": {},
   "outputs": [],
   "source": [
    "def get_data(training=-1,testing=-1,all_dataset=False):\n",
    "    pickel_in = open(\"data/train_data_preprocessed.csv\", \"rb\")\n",
    "    train_data_prepro = pickle.load(pickel_in)\n",
    "    \n",
    "    pickel_in = open(\"data/evaluation_preprocessed.csv\", \"rb\")\n",
    "    eval_data_prepro = pickle.load(pickel_in)\n",
    "#     eval_data_prepro = pd.read_csv(\"data/evaluation.csv\",error_bad_lines=False)\n",
    "\n",
    "    pd.set_option('display.max_rows', None)\n",
    "    pd.set_option('display.max_columns', None)\n",
    "    pd.set_option('display.width', None)\n",
    "    pd.set_option('display.max_colwidth', None)\n",
    "\n",
    "    sns.set(context=\"paper\")\n",
    "\n",
    "    if not all_dataset:\n",
    "        X_train, X_test, y_train, y_test = scsplit(train_data_prepro, train_data_prepro['retweet_count'], stratify=train_data_prepro['retweet_count'], train_size=0.7, test_size=0.3)\n",
    "\n",
    "        if (training != -1):\n",
    "            X_train = X_train.head(training)\n",
    "            X_test = X_test.head(testing)\n",
    "            y_train = y_train.head(training)\n",
    "            y_test = y_test.head(testing)\n",
    "            \n",
    "    else:\n",
    "        X_train = train_data_prepro\n",
    "        y_train = X_train['retweet_count']\n",
    "        X_test = -1\n",
    "        y_test = -1\n",
    "\n",
    "    # We remove the actual number of retweets from our features since it is the value that we are trying to predict\n",
    "    X_train = X_train.drop(['retweet_count'], axis=1)\n",
    "    \n",
    "    if not all_dataset:\n",
    "        X_test = X_test.drop(['retweet_count'], axis=1)\n",
    "\n",
    "    num_attribs = list(train_data_prepro[[\"user_verified\", \"timestamp_transf_hour\", \"timestamp_transf_weekday\", \"hashtags_count\", \"user_statuses_count\", \"user_followers_count\", \"user_friends_count\"]])\n",
    "    text_attribs = \"text\"\n",
    "    bin_counting_nominal_cat_attribs = \"hashtags_transf\"\n",
    "\n",
    "\n",
    "    num_pipe = Pipeline([('std_scaler', StandardScaler())])\n",
    "    text_pipe = Pipeline([('tfidf_vect', TfidfVectorizer(max_features=25, stop_words='english'))])\n",
    "    bin_counting_nominal_cat_pipe = Pipeline([('count_vect', CountVectorizer(max_features=10))])\n",
    "\n",
    "    full_pipe = ColumnTransformer([\n",
    "        ('num', num_pipe, num_attribs),\n",
    "        ('text', text_pipe, text_attribs),\n",
    "        ('bin_counting', bin_counting_nominal_cat_pipe, bin_counting_nominal_cat_attribs),\n",
    "    ])\n",
    "\n",
    "    X_train = full_pipe.fit_transform(X_train)\n",
    "    if not all_dataset:\n",
    "        X_test = full_pipe.transform(X_test)\n",
    "    X_eval = full_pipe.transform(eval_data_prepro)\n",
    "\n",
    "    print(\"SHAPE OF X_train\", X_train.shape)\n",
    "    print(\"type(X_train) = \", type(X_train))\n",
    "    print(\"-----------------------------------\")\n",
    "    print(\"SHAPE OF y_train\", y_train.shape)\n",
    "    print(\"-----------------------------------\")\n",
    "    return X_train, X_test, y_train, y_test, X_eval\n",
    "\n",
    "\n",
    "def train(X_train,y_train):\n",
    "#     print(\"Linear Regressor\")\n",
    "#     print(\"Lasso Regressor\")\n",
    "\n",
    "    # Logistic Regression\n",
    "    print(\"LogisticRegression\")\n",
    "    log_reg = LogisticRegression(verbose = 1,multi_class='ovr',n_jobs=-1)\n",
    "    log_reg.fit(X_train, y_train)\n",
    "    return log_reg\n",
    "    \n",
    "def predict(log_reg, print_features = False, all_dataset = False):  \n",
    "    pred_log_reg_train = log_reg.predict(X_train)\n",
    "    log_reg_train_mae = mean_absolute_error(y_true=y_train, y_pred=pred_log_reg_train)        \n",
    "    print(\"Logistic Regression prediction error for training set: \", log_reg_train_mae) \n",
    "    if not all_dataset:\n",
    "        pred_log_reg_test = log_reg.predict(X_test)\n",
    "        log_reg_test_mae = mean_absolute_error(y_true=y_test, y_pred=pred_log_reg_test)\n",
    "        print(\"for testing set: \", log_reg_test_mae)\n",
    "    \n",
    "    \n",
    "    if print_features:\n",
    "        #importances = log_reg.feature_importances_\n",
    "        importance = log_reg.coef_[0]\n",
    "        for i,v in enumerate(importance):\n",
    "            print('Feature: %0d, Score: %.5f' % (i,v))\n",
    "        # plot feature importance\n",
    "        plt.bar([x for x in range(len(importance))], importance)\n",
    "        plt.show()"
   ]
  },
  {
   "cell_type": "code",
   "execution_count": 61,
   "metadata": {},
   "outputs": [
    {
     "name": "stdout",
     "output_type": "stream",
     "text": [
      "SHAPE OF X_train (466043, 42)\n",
      "type(X_train) =  <class 'scipy.sparse.csr.csr_matrix'>\n",
      "-----------------------------------\n",
      "SHAPE OF y_train (466043,)\n",
      "-----------------------------------\n",
      "\n"
     ]
    }
   ],
   "source": [
    "X_train, X_test, y_train, y_test, X_eval = get_data(all_dataset=False)\n",
    "print(X_test == -1)"
   ]
  },
  {
   "cell_type": "code",
   "execution_count": 62,
   "metadata": {},
   "outputs": [
    {
     "name": "stdout",
     "output_type": "stream",
     "text": [
      "LogisticRegression\n"
     ]
    },
    {
     "name": "stderr",
     "output_type": "stream",
     "text": [
      "[Parallel(n_jobs=-1)]: Using backend LokyBackend with 16 concurrent workers.\n",
      "[Parallel(n_jobs=-1)]: Done  18 tasks      | elapsed:   24.1s\n",
      "[Parallel(n_jobs=-1)]: Done 168 tasks      | elapsed:  2.1min\n",
      "[Parallel(n_jobs=-1)]: Done 418 tasks      | elapsed:  4.4min\n",
      "[Parallel(n_jobs=-1)]: Done 768 tasks      | elapsed:  6.9min\n",
      "[Parallel(n_jobs=-1)]: Done 1218 tasks      | elapsed:  9.5min\n",
      "[Parallel(n_jobs=-1)]: Done 1768 tasks      | elapsed: 12.4min\n",
      "[Parallel(n_jobs=-1)]: Done 2418 tasks      | elapsed: 15.6min\n",
      "[Parallel(n_jobs=-1)]: Done 3168 tasks      | elapsed: 19.0min\n",
      "[Parallel(n_jobs=-1)]: Done 4018 tasks      | elapsed: 22.9min\n",
      "[Parallel(n_jobs=-1)]: Done 4968 tasks      | elapsed: 27.2min\n"
     ]
    },
    {
     "name": "stdout",
     "output_type": "stream",
     "text": [
      "--- 30.009336876869202 minutes ---\n"
     ]
    },
    {
     "name": "stderr",
     "output_type": "stream",
     "text": [
      "[Parallel(n_jobs=-1)]: Done 5618 out of 5618 | elapsed: 30.0min finished\n"
     ]
    }
   ],
   "source": [
    "start_time = time.time()\n",
    "model = train(X_train,y_train)\n",
    "print(\"--- %s minutes ---\" % ((time.time() - start_time)/60))"
   ]
  },
  {
   "cell_type": "code",
   "execution_count": 63,
   "metadata": {},
   "outputs": [
    {
     "name": "stdout",
     "output_type": "stream",
     "text": [
      "Logistic Regression prediction error for training set:  144.017103571988\n",
      "for testing set:  144.77842530565653\n",
      "Feature: 0, Score: -0.78250\n",
      "Feature: 1, Score: -0.00239\n",
      "Feature: 2, Score: 0.13828\n",
      "Feature: 3, Score: -4.85270\n",
      "Feature: 4, Score: -0.01875\n",
      "Feature: 5, Score: -3.82655\n",
      "Feature: 6, Score: -0.60892\n",
      "Feature: 7, Score: -0.81596\n",
      "Feature: 8, Score: -3.39022\n",
      "Feature: 9, Score: -0.93892\n",
      "Feature: 10, Score: -1.92978\n",
      "Feature: 11, Score: -2.25520\n",
      "Feature: 12, Score: -2.79571\n",
      "Feature: 13, Score: -1.80084\n",
      "Feature: 14, Score: -1.40241\n",
      "Feature: 15, Score: -1.15867\n",
      "Feature: 16, Score: -3.02382\n",
      "Feature: 17, Score: -2.74066\n",
      "Feature: 18, Score: -2.06310\n",
      "Feature: 19, Score: -5.50067\n",
      "Feature: 20, Score: -1.32731\n",
      "Feature: 21, Score: -1.67654\n",
      "Feature: 22, Score: -1.39693\n",
      "Feature: 23, Score: -1.92753\n",
      "Feature: 24, Score: -2.07300\n",
      "Feature: 25, Score: -2.74706\n",
      "Feature: 26, Score: -1.87087\n",
      "Feature: 27, Score: -1.99124\n",
      "Feature: 28, Score: -2.01291\n",
      "Feature: 29, Score: -1.84724\n",
      "Feature: 30, Score: -2.19830\n",
      "Feature: 31, Score: -1.97635\n",
      "Feature: 32, Score: -0.01119\n",
      "Feature: 33, Score: -0.01269\n",
      "Feature: 34, Score: -0.92375\n",
      "Feature: 35, Score: -0.02514\n",
      "Feature: 36, Score: -0.00726\n",
      "Feature: 37, Score: -0.02167\n",
      "Feature: 38, Score: 2.43960\n",
      "Feature: 39, Score: -0.00708\n",
      "Feature: 40, Score: -0.00425\n",
      "Feature: 41, Score: -0.00802\n"
     ]
    },
    {
     "data": {
      "image/png": "[encoded data removed]",
      "text/plain": [
       "<Figure size 432x288 with 1 Axes>"
      ]
     },
     "metadata": {},
     "output_type": "display_data"
    }
   ],
   "source": [
    "predict(model,print_features=True,all_dataset=False)"
   ]
  },
  {
   "cell_type": "code",
   "execution_count": 66,
   "metadata": {},
   "outputs": [],
   "source": [
    "# Dump the results into a file that follows the required Kaggle template\n",
    "eval_data = pd.read_csv(\"data/evaluation.csv\",error_bad_lines=False)\n",
    "\n",
    "def write_file(title = \"LogisticRegression(42_features)_all_dataset\"):\n",
    "    y_pred = model.predict(X_eval)\n",
    "    with open(title + \".txt\", 'w') as f:\n",
    "        writer = csv.writer(f)\n",
    "        writer.writerow([\"TweetID\", \"NoRetweets\"])\n",
    "        for index, prediction in enumerate(y_pred):\n",
    "            writer.writerow([str(eval_data['id'].iloc[index]) , str(int(prediction))])"
   ]
  },
  {
   "cell_type": "code",
   "execution_count": 67,
   "metadata": {},
   "outputs": [],
   "source": [
    "write_file()"
   ]
  },
  {
   "cell_type": "code",
   "execution_count": null,
   "metadata": {},
   "outputs": [],
   "source": [
    "sys.exit()\n",
    "idxs = np.argsort(importances)\n",
    "plt.title('Feature Importances')\n",
    "plt.barh(range(len(idxs)), importances[idxs], align='center')\n",
    "plt.yticks(range(len(idxs)), [col_names[i] for i in idxs])\n",
    "plt.xlabel('Logistic Regression Feature Importance')\n",
    "plt.show()"
   ]
  }
 ],
 "metadata": {
  "kernelspec": {
   "display_name": "Python 3",
   "language": "python",
   "name": "python3"
  },
  "language_info": {
   "codemirror_mode": {
    "name": "ipython",
    "version": 3
   },
   "file_extension": ".py",
   "mimetype": "text/x-python",
   "name": "python",
   "nbconvert_exporter": "python",
   "pygments_lexer": "ipython3",
   "version": "3.8.5"
  }
 },
 "nbformat": 4,
 "nbformat_minor": 4
}
